{
 "cells": [
  {
   "cell_type": "code",
   "execution_count": 31,
   "id": "706f1247",
   "metadata": {},
   "outputs": [
    {
     "name": "stdout",
     "output_type": "stream",
     "text": [
      "Input Lower Bound: 1\n",
      "Input Upper Bound: 100\n",
      "You have only 7 to guess the integer!\n",
      "Guess a no.:- 52\n",
      "You guessed too big\n",
      "Guess a no.:- 42\n",
      "You guessed too big\n",
      "Guess a no.:- 3\n",
      "You guessed too small\n",
      "Guess a no.:- 5\n",
      "You guessed too small\n",
      "Guess a no.:- 12\n",
      "You guessed too small\n",
      "Guess a no.:- 25\n",
      "You guessed too small\n",
      "Guess a no.:- 32\n",
      "You guessed too big\n",
      "\n",
      "The no. is 27\n",
      "\tBetter Luck Next time\n"
     ]
    }
   ],
   "source": [
    "import random\n",
    "import math\n",
    "lower= int(input(\"Input Lower Bound: \"))\n",
    "upper=int(input(\"Input Upper Bound: \"))\n",
    "x=random.randint(lower,upper)\n",
    "y=round(math.log(upper-lower+1,2))\n",
    "print(\"You have only\" ,y ,\"to guess the integer!\")\n",
    "count=0\n",
    "while count<y:\n",
    "    count+=1\n",
    "    guess=int(input(\"Guess a no.:- \"))\n",
    "    if x==guess:\n",
    "        print(\"Congartulations you did it in\",count,\"try\")\n",
    "        break\n",
    "    elif x>guess:\n",
    "        print(\"You guessed too small\")\n",
    "    elif x<guess:\n",
    "        print(\"You guessed too big\")\n",
    "if count>=y:\n",
    "    print(\"\\nThe no. is %d\" %x)\n",
    "    print(\"\\tBetter Luck Next time\")\n",
    "        \n",
    "    \n",
    "      "
   ]
  },
  {
   "cell_type": "code",
   "execution_count": null,
   "id": "86d0df75",
   "metadata": {},
   "outputs": [],
   "source": []
  }
 ],
 "metadata": {
  "kernelspec": {
   "display_name": "Python 3",
   "language": "python",
   "name": "python3"
  },
  "language_info": {
   "codemirror_mode": {
    "name": "ipython",
    "version": 3
   },
   "file_extension": ".py",
   "mimetype": "text/x-python",
   "name": "python",
   "nbconvert_exporter": "python",
   "pygments_lexer": "ipython3",
   "version": "3.8.8"
  }
 },
 "nbformat": 4,
 "nbformat_minor": 5
}
